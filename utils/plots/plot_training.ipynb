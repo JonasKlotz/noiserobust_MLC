{
 "cells": [
  {
   "cell_type": "code",
   "execution_count": 136,
   "metadata": {},
   "outputs": [],
   "source": [
    "import pandas as pd\n",
    "import matplotlib.pyplot as plt\n",
    "import os\n",
    "\n",
    "columns = ['epoch','loss','ACC','HA','ebF1','miF1','maF1','meanAUC','medianAUC','meanAUPR','medianAUPR','meanFDR','medianFDR','time','num_params']"
   ]
  },
  {
   "cell_type": "code",
   "execution_count": 155,
   "metadata": {},
   "outputs": [],
   "source": [
    "WORK_DIR = \"../../src/results/deepglobe/\"\n",
    "WORK_DIR2 = \"../../src/results/deepglobe/CbMLC\"\n",
    "CSV_LIST = [\"train_results.csv\", \"valid_results.csv\", \"test_results.csv\", \"losses.csv\"]"
   ]
  },
  {
   "cell_type": "code",
   "execution_count": 156,
   "metadata": {},
   "outputs": [
    {
     "data": {
      "application/vnd.jupyter.widget-view+json": {
       "model_id": "6b0804c8bc3b4b96b08239a06a2f1345",
       "version_major": 2,
       "version_minor": 0
      },
      "text/plain": [
       "interactive(children=(Dropdown(description='x', options=('09.07_16:04_.glove_d_300.epochs_25.loss_bce.sgd.lr_0…"
      ]
     },
     "metadata": {},
     "output_type": "display_data"
    },
    {
     "data": {
      "text/plain": [
       "<function __main__.f(x)>"
      ]
     },
     "execution_count": 156,
     "metadata": {},
     "output_type": "execute_result"
    }
   ],
   "source": [
    "# list available \n",
    "from ipywidgets import interact, interactive, fixed, interact_manual\n",
    "import ipywidgets as widgets\n",
    "\n",
    "def f(x):\n",
    "    return x\n",
    "    \n",
    "interact(f, x=[elem for elem in os.listdir(WORK_DIR2) if not elem.startswith('.')])"
   ]
  },
  {
   "cell_type": "code",
   "execution_count": 143,
   "metadata": {},
   "outputs": [],
   "source": [
    "def plot_df(df):\n",
    "    fig, axs = plt.subplots(1,2, figsize=(10,5))\n",
    "\n",
    "    fig.suptitle('Model')\n",
    "    axs[0].plot(df['epoch'], df['train_maAP']*100, label='train')\n",
    "    axs[0].plot(df['epoch'], df['valid_maAP']*100, label='valid')\n",
    "    axs[0].set_title('Train ACC')\n",
    "    axs[0].set_xlabel('epochs')\n",
    "    axs[0].set_ylabel('mAP')\n",
    "    axs[0].grid(axis=\"x\")\n",
    "    axs[0].grid(axis=\"y\")\n",
    "\n",
    "    axs[1].plot(df['epoch'], df['train_loss']*100, label='train loss')\n",
    "    axs[1].plot(df['epoch'], df['valid_loss']*100, label='valid loss')\n",
    "    axs[1].set_title('Loss')\n",
    "    axs[1].set_xlabel('epochs')\n",
    "    axs[1].set_ylabel('loss')\n",
    "    axs[1].grid(axis=\"x\")\n",
    "    axs[1].grid(axis=\"y\")\n",
    "\n",
    "    legend = axs[0].legend(loc='lower right', shadow=True, fontsize='x-large')\n",
    "    legend = axs[1].legend(loc='upper right', shadow=True, fontsize='x-large')\n",
    "    plt.show()"
   ]
  },
  {
   "cell_type": "code",
   "execution_count": 163,
   "metadata": {},
   "outputs": [
    {
     "data": {
      "text/html": [
       "<div>\n",
       "<style scoped>\n",
       "    .dataframe tbody tr th:only-of-type {\n",
       "        vertical-align: middle;\n",
       "    }\n",
       "\n",
       "    .dataframe tbody tr th {\n",
       "        vertical-align: top;\n",
       "    }\n",
       "\n",
       "    .dataframe thead th {\n",
       "        text-align: right;\n",
       "    }\n",
       "</style>\n",
       "<table border=\"1\" class=\"dataframe\">\n",
       "  <thead>\n",
       "    <tr style=\"text-align: right;\">\n",
       "      <th></th>\n",
       "      <th>epoch</th>\n",
       "      <th>train_miAP</th>\n",
       "      <th>train_maAP</th>\n",
       "      <th>train_miF1</th>\n",
       "      <th>train_maF1</th>\n",
       "      <th>train_loss</th>\n",
       "      <th>valid_miAP</th>\n",
       "      <th>valid_maAP</th>\n",
       "      <th>valid_miF1</th>\n",
       "      <th>valid_maF1</th>\n",
       "      <th>valid_loss</th>\n",
       "      <th>test_miAP</th>\n",
       "      <th>test_maAP</th>\n",
       "      <th>test_miF1</th>\n",
       "      <th>test_maF1</th>\n",
       "      <th>test_loss</th>\n",
       "    </tr>\n",
       "  </thead>\n",
       "  <tbody>\n",
       "    <tr>\n",
       "      <th>0</th>\n",
       "      <td>1</td>\n",
       "      <td>0.624984</td>\n",
       "      <td>0.307131</td>\n",
       "      <td>0.550231</td>\n",
       "      <td>0.222433</td>\n",
       "      <td>0.409218</td>\n",
       "      <td>0.774333</td>\n",
       "      <td>0.482389</td>\n",
       "      <td>0.644383</td>\n",
       "      <td>0.322339</td>\n",
       "      <td>0.318425</td>\n",
       "      <td>0.774333</td>\n",
       "      <td>0.482389</td>\n",
       "      <td>0.644383</td>\n",
       "      <td>0.322339</td>\n",
       "      <td>0.318425</td>\n",
       "    </tr>\n",
       "    <tr>\n",
       "      <th>1</th>\n",
       "      <td>2</td>\n",
       "      <td>0.772023</td>\n",
       "      <td>0.488230</td>\n",
       "      <td>0.667955</td>\n",
       "      <td>0.379940</td>\n",
       "      <td>0.317100</td>\n",
       "      <td>0.818663</td>\n",
       "      <td>0.543717</td>\n",
       "      <td>0.705388</td>\n",
       "      <td>0.426221</td>\n",
       "      <td>0.282088</td>\n",
       "      <td>0.818663</td>\n",
       "      <td>0.543717</td>\n",
       "      <td>0.705388</td>\n",
       "      <td>0.426221</td>\n",
       "      <td>0.282088</td>\n",
       "    </tr>\n",
       "    <tr>\n",
       "      <th>2</th>\n",
       "      <td>3</td>\n",
       "      <td>0.815255</td>\n",
       "      <td>0.545653</td>\n",
       "      <td>0.712489</td>\n",
       "      <td>0.455706</td>\n",
       "      <td>0.285162</td>\n",
       "      <td>0.836821</td>\n",
       "      <td>0.575468</td>\n",
       "      <td>0.726531</td>\n",
       "      <td>0.459764</td>\n",
       "      <td>0.265900</td>\n",
       "      <td>0.836821</td>\n",
       "      <td>0.575468</td>\n",
       "      <td>0.726531</td>\n",
       "      <td>0.459764</td>\n",
       "      <td>0.265900</td>\n",
       "    </tr>\n",
       "    <tr>\n",
       "      <th>3</th>\n",
       "      <td>4</td>\n",
       "      <td>0.834591</td>\n",
       "      <td>0.574548</td>\n",
       "      <td>0.732251</td>\n",
       "      <td>0.488925</td>\n",
       "      <td>0.269059</td>\n",
       "      <td>0.849725</td>\n",
       "      <td>0.595948</td>\n",
       "      <td>0.742803</td>\n",
       "      <td>0.488176</td>\n",
       "      <td>0.254831</td>\n",
       "      <td>0.849725</td>\n",
       "      <td>0.595948</td>\n",
       "      <td>0.742803</td>\n",
       "      <td>0.488176</td>\n",
       "      <td>0.254831</td>\n",
       "    </tr>\n",
       "    <tr>\n",
       "      <th>4</th>\n",
       "      <td>5</td>\n",
       "      <td>0.847788</td>\n",
       "      <td>0.600658</td>\n",
       "      <td>0.744015</td>\n",
       "      <td>0.509247</td>\n",
       "      <td>0.257166</td>\n",
       "      <td>0.858241</td>\n",
       "      <td>0.614464</td>\n",
       "      <td>0.752336</td>\n",
       "      <td>0.516854</td>\n",
       "      <td>0.247156</td>\n",
       "      <td>0.858241</td>\n",
       "      <td>0.614464</td>\n",
       "      <td>0.752336</td>\n",
       "      <td>0.516854</td>\n",
       "      <td>0.247156</td>\n",
       "    </tr>\n",
       "    <tr>\n",
       "      <th>5</th>\n",
       "      <td>6</td>\n",
       "      <td>0.857702</td>\n",
       "      <td>0.617099</td>\n",
       "      <td>0.753052</td>\n",
       "      <td>0.524425</td>\n",
       "      <td>0.247880</td>\n",
       "      <td>0.864129</td>\n",
       "      <td>0.622669</td>\n",
       "      <td>0.758647</td>\n",
       "      <td>0.518615</td>\n",
       "      <td>0.242226</td>\n",
       "      <td>0.864129</td>\n",
       "      <td>0.622669</td>\n",
       "      <td>0.758647</td>\n",
       "      <td>0.518615</td>\n",
       "      <td>0.242226</td>\n",
       "    </tr>\n",
       "    <tr>\n",
       "      <th>6</th>\n",
       "      <td>7</td>\n",
       "      <td>0.867858</td>\n",
       "      <td>0.634106</td>\n",
       "      <td>0.765601</td>\n",
       "      <td>0.547654</td>\n",
       "      <td>0.238726</td>\n",
       "      <td>0.868714</td>\n",
       "      <td>0.633053</td>\n",
       "      <td>0.768620</td>\n",
       "      <td>0.543178</td>\n",
       "      <td>0.237669</td>\n",
       "      <td>0.868714</td>\n",
       "      <td>0.633053</td>\n",
       "      <td>0.768620</td>\n",
       "      <td>0.543178</td>\n",
       "      <td>0.237669</td>\n",
       "    </tr>\n",
       "    <tr>\n",
       "      <th>7</th>\n",
       "      <td>8</td>\n",
       "      <td>0.875626</td>\n",
       "      <td>0.644435</td>\n",
       "      <td>0.774351</td>\n",
       "      <td>0.560895</td>\n",
       "      <td>0.230893</td>\n",
       "      <td>0.874481</td>\n",
       "      <td>0.643566</td>\n",
       "      <td>0.775472</td>\n",
       "      <td>0.555845</td>\n",
       "      <td>0.232410</td>\n",
       "      <td>0.874481</td>\n",
       "      <td>0.643566</td>\n",
       "      <td>0.775472</td>\n",
       "      <td>0.555845</td>\n",
       "      <td>0.232410</td>\n",
       "    </tr>\n",
       "    <tr>\n",
       "      <th>8</th>\n",
       "      <td>9</td>\n",
       "      <td>0.881355</td>\n",
       "      <td>0.659667</td>\n",
       "      <td>0.781583</td>\n",
       "      <td>0.579901</td>\n",
       "      <td>0.225322</td>\n",
       "      <td>0.876467</td>\n",
       "      <td>0.647018</td>\n",
       "      <td>0.778210</td>\n",
       "      <td>0.562737</td>\n",
       "      <td>0.230757</td>\n",
       "      <td>0.876467</td>\n",
       "      <td>0.647018</td>\n",
       "      <td>0.778210</td>\n",
       "      <td>0.562737</td>\n",
       "      <td>0.230757</td>\n",
       "    </tr>\n",
       "    <tr>\n",
       "      <th>9</th>\n",
       "      <td>10</td>\n",
       "      <td>0.888618</td>\n",
       "      <td>0.668163</td>\n",
       "      <td>0.789416</td>\n",
       "      <td>0.587832</td>\n",
       "      <td>0.217653</td>\n",
       "      <td>0.879895</td>\n",
       "      <td>0.653172</td>\n",
       "      <td>0.784740</td>\n",
       "      <td>0.574420</td>\n",
       "      <td>0.227877</td>\n",
       "      <td>0.879895</td>\n",
       "      <td>0.653172</td>\n",
       "      <td>0.784740</td>\n",
       "      <td>0.574420</td>\n",
       "      <td>0.227877</td>\n",
       "    </tr>\n",
       "    <tr>\n",
       "      <th>10</th>\n",
       "      <td>11</td>\n",
       "      <td>0.891564</td>\n",
       "      <td>0.676118</td>\n",
       "      <td>0.792110</td>\n",
       "      <td>0.592213</td>\n",
       "      <td>0.214371</td>\n",
       "      <td>0.882150</td>\n",
       "      <td>0.658474</td>\n",
       "      <td>0.784819</td>\n",
       "      <td>0.574711</td>\n",
       "      <td>0.225980</td>\n",
       "      <td>0.882150</td>\n",
       "      <td>0.658474</td>\n",
       "      <td>0.784819</td>\n",
       "      <td>0.574711</td>\n",
       "      <td>0.225980</td>\n",
       "    </tr>\n",
       "    <tr>\n",
       "      <th>11</th>\n",
       "      <td>12</td>\n",
       "      <td>0.897130</td>\n",
       "      <td>0.684000</td>\n",
       "      <td>0.800633</td>\n",
       "      <td>0.605210</td>\n",
       "      <td>0.208212</td>\n",
       "      <td>0.884704</td>\n",
       "      <td>0.666075</td>\n",
       "      <td>0.788088</td>\n",
       "      <td>0.585357</td>\n",
       "      <td>0.223777</td>\n",
       "      <td>0.884704</td>\n",
       "      <td>0.666075</td>\n",
       "      <td>0.788088</td>\n",
       "      <td>0.585357</td>\n",
       "      <td>0.223777</td>\n",
       "    </tr>\n",
       "    <tr>\n",
       "      <th>12</th>\n",
       "      <td>13</td>\n",
       "      <td>0.900321</td>\n",
       "      <td>0.692625</td>\n",
       "      <td>0.804289</td>\n",
       "      <td>0.611805</td>\n",
       "      <td>0.204782</td>\n",
       "      <td>0.886280</td>\n",
       "      <td>0.665660</td>\n",
       "      <td>0.789984</td>\n",
       "      <td>0.585214</td>\n",
       "      <td>0.222725</td>\n",
       "      <td>0.886280</td>\n",
       "      <td>0.665660</td>\n",
       "      <td>0.789984</td>\n",
       "      <td>0.585214</td>\n",
       "      <td>0.222725</td>\n",
       "    </tr>\n",
       "    <tr>\n",
       "      <th>13</th>\n",
       "      <td>14</td>\n",
       "      <td>0.904261</td>\n",
       "      <td>0.699985</td>\n",
       "      <td>0.808192</td>\n",
       "      <td>0.616250</td>\n",
       "      <td>0.200269</td>\n",
       "      <td>0.887005</td>\n",
       "      <td>0.673697</td>\n",
       "      <td>0.786459</td>\n",
       "      <td>0.586935</td>\n",
       "      <td>0.222130</td>\n",
       "      <td>0.887005</td>\n",
       "      <td>0.673697</td>\n",
       "      <td>0.786459</td>\n",
       "      <td>0.586935</td>\n",
       "      <td>0.222130</td>\n",
       "    </tr>\n",
       "    <tr>\n",
       "      <th>14</th>\n",
       "      <td>15</td>\n",
       "      <td>0.908258</td>\n",
       "      <td>0.709268</td>\n",
       "      <td>0.813498</td>\n",
       "      <td>0.622490</td>\n",
       "      <td>0.195453</td>\n",
       "      <td>0.888469</td>\n",
       "      <td>0.673405</td>\n",
       "      <td>0.789380</td>\n",
       "      <td>0.591800</td>\n",
       "      <td>0.221574</td>\n",
       "      <td>0.888469</td>\n",
       "      <td>0.673405</td>\n",
       "      <td>0.789380</td>\n",
       "      <td>0.591800</td>\n",
       "      <td>0.221574</td>\n",
       "    </tr>\n",
       "    <tr>\n",
       "      <th>15</th>\n",
       "      <td>16</td>\n",
       "      <td>0.915224</td>\n",
       "      <td>0.718738</td>\n",
       "      <td>0.821290</td>\n",
       "      <td>0.631995</td>\n",
       "      <td>0.187884</td>\n",
       "      <td>0.889929</td>\n",
       "      <td>0.674985</td>\n",
       "      <td>0.797019</td>\n",
       "      <td>0.608147</td>\n",
       "      <td>0.220889</td>\n",
       "      <td>0.889929</td>\n",
       "      <td>0.674985</td>\n",
       "      <td>0.797019</td>\n",
       "      <td>0.608147</td>\n",
       "      <td>0.220889</td>\n",
       "    </tr>\n",
       "    <tr>\n",
       "      <th>16</th>\n",
       "      <td>17</td>\n",
       "      <td>0.918630</td>\n",
       "      <td>0.724684</td>\n",
       "      <td>0.829075</td>\n",
       "      <td>0.647366</td>\n",
       "      <td>0.183473</td>\n",
       "      <td>0.890217</td>\n",
       "      <td>0.680019</td>\n",
       "      <td>0.795695</td>\n",
       "      <td>0.597663</td>\n",
       "      <td>0.221636</td>\n",
       "      <td>0.890217</td>\n",
       "      <td>0.680019</td>\n",
       "      <td>0.795695</td>\n",
       "      <td>0.597663</td>\n",
       "      <td>0.221636</td>\n",
       "    </tr>\n",
       "    <tr>\n",
       "      <th>17</th>\n",
       "      <td>18</td>\n",
       "      <td>0.920496</td>\n",
       "      <td>0.729903</td>\n",
       "      <td>0.830571</td>\n",
       "      <td>0.646333</td>\n",
       "      <td>0.181021</td>\n",
       "      <td>0.889833</td>\n",
       "      <td>0.680212</td>\n",
       "      <td>0.794967</td>\n",
       "      <td>0.604746</td>\n",
       "      <td>0.222036</td>\n",
       "      <td>0.889833</td>\n",
       "      <td>0.680212</td>\n",
       "      <td>0.794967</td>\n",
       "      <td>0.604746</td>\n",
       "      <td>0.222036</td>\n",
       "    </tr>\n",
       "    <tr>\n",
       "      <th>18</th>\n",
       "      <td>19</td>\n",
       "      <td>0.924079</td>\n",
       "      <td>0.740854</td>\n",
       "      <td>0.837774</td>\n",
       "      <td>0.655257</td>\n",
       "      <td>0.176668</td>\n",
       "      <td>0.892709</td>\n",
       "      <td>0.682262</td>\n",
       "      <td>0.798423</td>\n",
       "      <td>0.604924</td>\n",
       "      <td>0.220041</td>\n",
       "      <td>0.892709</td>\n",
       "      <td>0.682262</td>\n",
       "      <td>0.798423</td>\n",
       "      <td>0.604924</td>\n",
       "      <td>0.220041</td>\n",
       "    </tr>\n",
       "    <tr>\n",
       "      <th>19</th>\n",
       "      <td>20</td>\n",
       "      <td>0.926906</td>\n",
       "      <td>0.749172</td>\n",
       "      <td>0.839112</td>\n",
       "      <td>0.659570</td>\n",
       "      <td>0.172882</td>\n",
       "      <td>0.892039</td>\n",
       "      <td>0.683846</td>\n",
       "      <td>0.794219</td>\n",
       "      <td>0.597053</td>\n",
       "      <td>0.223024</td>\n",
       "      <td>0.892039</td>\n",
       "      <td>0.683846</td>\n",
       "      <td>0.794219</td>\n",
       "      <td>0.597053</td>\n",
       "      <td>0.223024</td>\n",
       "    </tr>\n",
       "  </tbody>\n",
       "</table>\n",
       "</div>"
      ],
      "text/plain": [
       "    epoch  train_miAP  train_maAP  train_miF1  train_maF1  train_loss  \\\n",
       "0       1    0.624984    0.307131    0.550231    0.222433    0.409218   \n",
       "1       2    0.772023    0.488230    0.667955    0.379940    0.317100   \n",
       "2       3    0.815255    0.545653    0.712489    0.455706    0.285162   \n",
       "3       4    0.834591    0.574548    0.732251    0.488925    0.269059   \n",
       "4       5    0.847788    0.600658    0.744015    0.509247    0.257166   \n",
       "5       6    0.857702    0.617099    0.753052    0.524425    0.247880   \n",
       "6       7    0.867858    0.634106    0.765601    0.547654    0.238726   \n",
       "7       8    0.875626    0.644435    0.774351    0.560895    0.230893   \n",
       "8       9    0.881355    0.659667    0.781583    0.579901    0.225322   \n",
       "9      10    0.888618    0.668163    0.789416    0.587832    0.217653   \n",
       "10     11    0.891564    0.676118    0.792110    0.592213    0.214371   \n",
       "11     12    0.897130    0.684000    0.800633    0.605210    0.208212   \n",
       "12     13    0.900321    0.692625    0.804289    0.611805    0.204782   \n",
       "13     14    0.904261    0.699985    0.808192    0.616250    0.200269   \n",
       "14     15    0.908258    0.709268    0.813498    0.622490    0.195453   \n",
       "15     16    0.915224    0.718738    0.821290    0.631995    0.187884   \n",
       "16     17    0.918630    0.724684    0.829075    0.647366    0.183473   \n",
       "17     18    0.920496    0.729903    0.830571    0.646333    0.181021   \n",
       "18     19    0.924079    0.740854    0.837774    0.655257    0.176668   \n",
       "19     20    0.926906    0.749172    0.839112    0.659570    0.172882   \n",
       "\n",
       "    valid_miAP  valid_maAP  valid_miF1  valid_maF1  valid_loss  test_miAP  \\\n",
       "0     0.774333    0.482389    0.644383    0.322339    0.318425   0.774333   \n",
       "1     0.818663    0.543717    0.705388    0.426221    0.282088   0.818663   \n",
       "2     0.836821    0.575468    0.726531    0.459764    0.265900   0.836821   \n",
       "3     0.849725    0.595948    0.742803    0.488176    0.254831   0.849725   \n",
       "4     0.858241    0.614464    0.752336    0.516854    0.247156   0.858241   \n",
       "5     0.864129    0.622669    0.758647    0.518615    0.242226   0.864129   \n",
       "6     0.868714    0.633053    0.768620    0.543178    0.237669   0.868714   \n",
       "7     0.874481    0.643566    0.775472    0.555845    0.232410   0.874481   \n",
       "8     0.876467    0.647018    0.778210    0.562737    0.230757   0.876467   \n",
       "9     0.879895    0.653172    0.784740    0.574420    0.227877   0.879895   \n",
       "10    0.882150    0.658474    0.784819    0.574711    0.225980   0.882150   \n",
       "11    0.884704    0.666075    0.788088    0.585357    0.223777   0.884704   \n",
       "12    0.886280    0.665660    0.789984    0.585214    0.222725   0.886280   \n",
       "13    0.887005    0.673697    0.786459    0.586935    0.222130   0.887005   \n",
       "14    0.888469    0.673405    0.789380    0.591800    0.221574   0.888469   \n",
       "15    0.889929    0.674985    0.797019    0.608147    0.220889   0.889929   \n",
       "16    0.890217    0.680019    0.795695    0.597663    0.221636   0.890217   \n",
       "17    0.889833    0.680212    0.794967    0.604746    0.222036   0.889833   \n",
       "18    0.892709    0.682262    0.798423    0.604924    0.220041   0.892709   \n",
       "19    0.892039    0.683846    0.794219    0.597053    0.223024   0.892039   \n",
       "\n",
       "    test_maAP  test_miF1  test_maF1  test_loss  \n",
       "0    0.482389   0.644383   0.322339   0.318425  \n",
       "1    0.543717   0.705388   0.426221   0.282088  \n",
       "2    0.575468   0.726531   0.459764   0.265900  \n",
       "3    0.595948   0.742803   0.488176   0.254831  \n",
       "4    0.614464   0.752336   0.516854   0.247156  \n",
       "5    0.622669   0.758647   0.518615   0.242226  \n",
       "6    0.633053   0.768620   0.543178   0.237669  \n",
       "7    0.643566   0.775472   0.555845   0.232410  \n",
       "8    0.647018   0.778210   0.562737   0.230757  \n",
       "9    0.653172   0.784740   0.574420   0.227877  \n",
       "10   0.658474   0.784819   0.574711   0.225980  \n",
       "11   0.666075   0.788088   0.585357   0.223777  \n",
       "12   0.665660   0.789984   0.585214   0.222725  \n",
       "13   0.673697   0.786459   0.586935   0.222130  \n",
       "14   0.673405   0.789380   0.591800   0.221574  \n",
       "15   0.674985   0.797019   0.608147   0.220889  \n",
       "16   0.680019   0.795695   0.597663   0.221636  \n",
       "17   0.680212   0.794967   0.604746   0.222036  \n",
       "18   0.682262   0.798423   0.604924   0.220041  \n",
       "19   0.683846   0.794219   0.597053   0.223024  "
      ]
     },
     "execution_count": 163,
     "metadata": {},
     "output_type": "execute_result"
    }
   ],
   "source": [
    "df = pd.read_csv('/Users/kiril/Documents/Master/Semester_4/computer vision/remotesensing/src/results/deepglobe/CbMLC/09.07_16:04_.glove_d_300.epochs_25.loss_bce.sgd.lr_0002/results.csv')\n",
    "df"
   ]
  },
  {
   "cell_type": "code",
   "execution_count": 164,
   "metadata": {},
   "outputs": [
    {
     "data": {
      "image/png": "[encoded data removed]",
      "text/plain": [
       "<Figure size 720x360 with 2 Axes>"
      ]
     },
     "metadata": {
      "needs_background": "light"
     },
     "output_type": "display_data"
    }
   ],
   "source": [
    "plot_df(df)"
   ]
  },
  {
   "cell_type": "code",
   "execution_count": 133,
   "metadata": {},
   "outputs": [
    {
     "data": {
      "image/png": "[encoded data removed]",
      "text/plain": [
       "<Figure size 720x360 with 2 Axes>"
      ]
     },
     "metadata": {
      "needs_background": "light"
     },
     "output_type": "display_data"
    }
   ],
   "source": [
    "fig, axs = plt.subplots(1,2, figsize=(10,5))\n",
    "\n",
    "fig.suptitle('Model')\n",
    "axs[0].plot(df['epoch'], df['train_maAP']*100, label='train')\n",
    "axs[0].plot(df['epoch'], df['valid_maAP']*100, label='valid')\n",
    "axs[0].set_title('Train ACC')\n",
    "axs[0].set_xlabel('epochs')\n",
    "axs[0].set_ylabel('mAP')\n",
    "axs[0].grid(axis=\"x\")\n",
    "axs[0].grid(axis=\"y\")\n",
    "\n",
    "axs[1].plot(df['epoch'], df['train_loss']*100, label='train loss')\n",
    "axs[1].plot(df['epoch'], df['valid_loss']*100, label='valid loss')\n",
    "axs[1].set_title('Loss')\n",
    "axs[1].set_xlabel('epochs')\n",
    "axs[1].set_ylabel('loss')\n",
    "axs[1].grid(axis=\"x\")\n",
    "axs[1].grid(axis=\"y\")\n",
    "\n",
    "legend = axs[0].legend(loc='lower right', shadow=True, fontsize='x-large')\n",
    "legend = axs[1].legend(loc='upper right', shadow=True, fontsize='x-large')\n",
    "plt.show()"
   ]
  },
  {
   "cell_type": "code",
   "execution_count": 79,
   "metadata": {},
   "outputs": [
    {
     "data": {
      "text/plain": [
       "[<matplotlib.lines.Line2D at 0x7f9b6bb14370>]"
      ]
     },
     "execution_count": 79,
     "metadata": {},
     "output_type": "execute_result"
    },
    {
     "data": {
      "image/png": "[encoded data removed]",
      "text/plain": [
       "<Figure size 432x288 with 1 Axes>"
      ]
     },
     "metadata": {
      "needs_background": "light"
     },
     "output_type": "display_data"
    }
   ],
   "source": [
    "plt.plot(df['train_loss'])\n",
    "plt.plot(df['valid_loss'])\n",
    "plt.plot(df['test_loss'])"
   ]
  },
  {
   "cell_type": "code",
   "execution_count": 41,
   "metadata": {},
   "outputs": [
    {
     "name": "stdout",
     "output_type": "stream",
     "text": [
      "../../src/results/deepglobe/enc_resnet.dec_graph.300.512.75.75.nlayers_5_4.nheads_4.proj_share.bsz_32.loss_bce.sgd.mom_0.9.lr_002.drop_10_10.priormask/train_results.csv\n",
      "1\n"
     ]
    }
   ],
   "source": [
    "train,valid,test = plot_dir('enc_resnet.dec_graph.300.512.75.75.nlayers_5_4.nheads_4.proj_share.bsz_32.loss_bce.sgd.mom_0.9.lr_002.drop_10_10.priormask')"
   ]
  },
  {
   "cell_type": "code",
   "execution_count": 42,
   "metadata": {},
   "outputs": [
    {
     "data": {
      "text/html": [
       "<div>\n",
       "<style scoped>\n",
       "    .dataframe tbody tr th:only-of-type {\n",
       "        vertical-align: middle;\n",
       "    }\n",
       "\n",
       "    .dataframe tbody tr th {\n",
       "        vertical-align: top;\n",
       "    }\n",
       "\n",
       "    .dataframe thead th {\n",
       "        text-align: right;\n",
       "    }\n",
       "</style>\n",
       "<table border=\"1\" class=\"dataframe\">\n",
       "  <thead>\n",
       "    <tr style=\"text-align: right;\">\n",
       "      <th></th>\n",
       "      <th>epoch</th>\n",
       "      <th>loss</th>\n",
       "      <th>ACC</th>\n",
       "      <th>HA</th>\n",
       "      <th>ebF1</th>\n",
       "      <th>miF1</th>\n",
       "      <th>maF1</th>\n",
       "      <th>meanAUC</th>\n",
       "      <th>medianAUC</th>\n",
       "      <th>meanAUPR</th>\n",
       "      <th>medianAUPR</th>\n",
       "      <th>meanFDR</th>\n",
       "      <th>medianFDR</th>\n",
       "      <th>time</th>\n",
       "      <th>num_params</th>\n",
       "    </tr>\n",
       "  </thead>\n",
       "  <tbody>\n",
       "    <tr>\n",
       "      <th>0</th>\n",
       "      <td>0</td>\n",
       "      <td>0</td>\n",
       "      <td>0.464193</td>\n",
       "      <td>0.875949</td>\n",
       "      <td>0.706909</td>\n",
       "      <td>0.68208</td>\n",
       "      <td>0.433636</td>\n",
       "      <td>0.757336</td>\n",
       "      <td>0.769637</td>\n",
       "      <td>NaN</td>\n",
       "      <td>NaN</td>\n",
       "      <td>0.476439</td>\n",
       "      <td>0.380577</td>\n",
       "      <td>23.26</td>\n",
       "      <td>16688308</td>\n",
       "    </tr>\n",
       "  </tbody>\n",
       "</table>\n",
       "</div>"
      ],
      "text/plain": [
       "   epoch  loss       ACC        HA      ebF1     miF1      maF1   meanAUC  \\\n",
       "0      0     0  0.464193  0.875949  0.706909  0.68208  0.433636  0.757336   \n",
       "\n",
       "   medianAUC  meanAUPR  medianAUPR   meanFDR  medianFDR   time  num_params  \n",
       "0   0.769637       NaN         NaN  0.476439   0.380577  23.26    16688308  "
      ]
     },
     "execution_count": 42,
     "metadata": {},
     "output_type": "execute_result"
    }
   ],
   "source": [
    "train"
   ]
  },
  {
   "cell_type": "code",
   "execution_count": 43,
   "metadata": {},
   "outputs": [
    {
     "data": {
      "text/plain": [
       "['train_all_auc.csv',\n",
       " 'valid_all_auc.csv',\n",
       " 'model.chkpt',\n",
       " 'test_all_aupr.csv',\n",
       " 'train_results.csv',\n",
       " 'valid_results.csv',\n",
       " 'losses.csv',\n",
       " 'valid_all_aupr.csv',\n",
       " 'epochs',\n",
       " 'train_all_aupr.csv',\n",
       " 'test_results.csv',\n",
       " 'test_all_auc.csv']"
      ]
     },
     "execution_count": 43,
     "metadata": {},
     "output_type": "execute_result"
    }
   ],
   "source": [
    "os.listdir(f'{WORK_DIR}enc_resnet.dec_graph.300.512.75.75.nlayers_5_4.nheads_4.proj_share.bsz_32.loss_asl.adam.lr_002.drop_10_10.priormask')"
   ]
  },
  {
   "cell_type": "code",
   "execution_count": 3,
   "metadata": {},
   "outputs": [
    {
     "ename": "FileNotFoundError",
     "evalue": "[Errno 2] No such file or directory: 'src/results/deepglobe/enc_resnet.dec_graph.300.512.75.75.nlayers_5_4.nheads_4.proj_share.bsz_32.loss_ce.adam.lr_002.drop_10_10.inveyemask/train_results.csv'",
     "output_type": "error",
     "traceback": [
      "\u001b[0;31m---------------------------------------------------------------------------\u001b[0m",
      "\u001b[0;31mFileNotFoundError\u001b[0m                         Traceback (most recent call last)",
      "\u001b[0;32m/var/folders/yr/jsmzxw4102bb5tj6kvlpvcy00000gn/T/ipykernel_42047/3522532031.py\u001b[0m in \u001b[0;36m<module>\u001b[0;34m\u001b[0m\n\u001b[0;32m----> 1\u001b[0;31m df = pd.read_csv(f'{WORK_DIR}enc_resnet.dec_graph.300.512.75.75.nlayers_5_4.nheads_4.proj_share.bsz_32.loss_ce.adam.lr_002.drop_10_10.inveyemask/train_results.csv',\n\u001b[0m\u001b[1;32m      2\u001b[0m             names=columns)\n\u001b[1;32m      3\u001b[0m \u001b[0;34m\u001b[0m\u001b[0m\n\u001b[1;32m      4\u001b[0m \u001b[0mdf\u001b[0m\u001b[0;34m.\u001b[0m\u001b[0mhead\u001b[0m\u001b[0;34m(\u001b[0m\u001b[0;34m)\u001b[0m\u001b[0;34m\u001b[0m\u001b[0;34m\u001b[0m\u001b[0m\n",
      "\u001b[0;32m~/opt/anaconda3/lib/python3.8/site-packages/pandas/util/_decorators.py\u001b[0m in \u001b[0;36mwrapper\u001b[0;34m(*args, **kwargs)\u001b[0m\n\u001b[1;32m    309\u001b[0m                     \u001b[0mstacklevel\u001b[0m\u001b[0;34m=\u001b[0m\u001b[0mstacklevel\u001b[0m\u001b[0;34m,\u001b[0m\u001b[0;34m\u001b[0m\u001b[0;34m\u001b[0m\u001b[0m\n\u001b[1;32m    310\u001b[0m                 )\n\u001b[0;32m--> 311\u001b[0;31m             \u001b[0;32mreturn\u001b[0m \u001b[0mfunc\u001b[0m\u001b[0;34m(\u001b[0m\u001b[0;34m*\u001b[0m\u001b[0margs\u001b[0m\u001b[0;34m,\u001b[0m \u001b[0;34m**\u001b[0m\u001b[0mkwargs\u001b[0m\u001b[0;34m)\u001b[0m\u001b[0;34m\u001b[0m\u001b[0;34m\u001b[0m\u001b[0m\n\u001b[0m\u001b[1;32m    312\u001b[0m \u001b[0;34m\u001b[0m\u001b[0m\n\u001b[1;32m    313\u001b[0m         \u001b[0;32mreturn\u001b[0m \u001b[0mwrapper\u001b[0m\u001b[0;34m\u001b[0m\u001b[0;34m\u001b[0m\u001b[0m\n",
      "\u001b[0;32m~/opt/anaconda3/lib/python3.8/site-packages/pandas/io/parsers/readers.py\u001b[0m in \u001b[0;36mread_csv\u001b[0;34m(filepath_or_buffer, sep, delimiter, header, names, index_col, usecols, squeeze, prefix, mangle_dupe_cols, dtype, engine, converters, true_values, false_values, skipinitialspace, skiprows, skipfooter, nrows, na_values, keep_default_na, na_filter, verbose, skip_blank_lines, parse_dates, infer_datetime_format, keep_date_col, date_parser, dayfirst, cache_dates, iterator, chunksize, compression, thousands, decimal, lineterminator, quotechar, quoting, doublequote, escapechar, comment, encoding, encoding_errors, dialect, error_bad_lines, warn_bad_lines, on_bad_lines, delim_whitespace, low_memory, memory_map, float_precision, storage_options)\u001b[0m\n\u001b[1;32m    584\u001b[0m     \u001b[0mkwds\u001b[0m\u001b[0;34m.\u001b[0m\u001b[0mupdate\u001b[0m\u001b[0;34m(\u001b[0m\u001b[0mkwds_defaults\u001b[0m\u001b[0;34m)\u001b[0m\u001b[0;34m\u001b[0m\u001b[0;34m\u001b[0m\u001b[0m\n\u001b[1;32m    585\u001b[0m \u001b[0;34m\u001b[0m\u001b[0m\n\u001b[0;32m--> 586\u001b[0;31m     \u001b[0;32mreturn\u001b[0m \u001b[0m_read\u001b[0m\u001b[0;34m(\u001b[0m\u001b[0mfilepath_or_buffer\u001b[0m\u001b[0;34m,\u001b[0m \u001b[0mkwds\u001b[0m\u001b[0;34m)\u001b[0m\u001b[0;34m\u001b[0m\u001b[0;34m\u001b[0m\u001b[0m\n\u001b[0m\u001b[1;32m    587\u001b[0m \u001b[0;34m\u001b[0m\u001b[0m\n\u001b[1;32m    588\u001b[0m \u001b[0;34m\u001b[0m\u001b[0m\n",
      "\u001b[0;32m~/opt/anaconda3/lib/python3.8/site-packages/pandas/io/parsers/readers.py\u001b[0m in \u001b[0;36m_read\u001b[0;34m(filepath_or_buffer, kwds)\u001b[0m\n\u001b[1;32m    480\u001b[0m \u001b[0;34m\u001b[0m\u001b[0m\n\u001b[1;32m    481\u001b[0m     \u001b[0;31m# Create the parser.\u001b[0m\u001b[0;34m\u001b[0m\u001b[0;34m\u001b[0m\u001b[0;34m\u001b[0m\u001b[0m\n\u001b[0;32m--> 482\u001b[0;31m     \u001b[0mparser\u001b[0m \u001b[0;34m=\u001b[0m \u001b[0mTextFileReader\u001b[0m\u001b[0;34m(\u001b[0m\u001b[0mfilepath_or_buffer\u001b[0m\u001b[0;34m,\u001b[0m \u001b[0;34m**\u001b[0m\u001b[0mkwds\u001b[0m\u001b[0;34m)\u001b[0m\u001b[0;34m\u001b[0m\u001b[0;34m\u001b[0m\u001b[0m\n\u001b[0m\u001b[1;32m    483\u001b[0m \u001b[0;34m\u001b[0m\u001b[0m\n\u001b[1;32m    484\u001b[0m     \u001b[0;32mif\u001b[0m \u001b[0mchunksize\u001b[0m \u001b[0;32mor\u001b[0m \u001b[0miterator\u001b[0m\u001b[0;34m:\u001b[0m\u001b[0;34m\u001b[0m\u001b[0;34m\u001b[0m\u001b[0m\n",
      "\u001b[0;32m~/opt/anaconda3/lib/python3.8/site-packages/pandas/io/parsers/readers.py\u001b[0m in \u001b[0;36m__init__\u001b[0;34m(self, f, engine, **kwds)\u001b[0m\n\u001b[1;32m    809\u001b[0m             \u001b[0mself\u001b[0m\u001b[0;34m.\u001b[0m\u001b[0moptions\u001b[0m\u001b[0;34m[\u001b[0m\u001b[0;34m\"has_index_names\"\u001b[0m\u001b[0;34m]\u001b[0m \u001b[0;34m=\u001b[0m \u001b[0mkwds\u001b[0m\u001b[0;34m[\u001b[0m\u001b[0;34m\"has_index_names\"\u001b[0m\u001b[0;34m]\u001b[0m\u001b[0;34m\u001b[0m\u001b[0;34m\u001b[0m\u001b[0m\n\u001b[1;32m    810\u001b[0m \u001b[0;34m\u001b[0m\u001b[0m\n\u001b[0;32m--> 811\u001b[0;31m         \u001b[0mself\u001b[0m\u001b[0;34m.\u001b[0m\u001b[0m_engine\u001b[0m \u001b[0;34m=\u001b[0m \u001b[0mself\u001b[0m\u001b[0;34m.\u001b[0m\u001b[0m_make_engine\u001b[0m\u001b[0;34m(\u001b[0m\u001b[0mself\u001b[0m\u001b[0;34m.\u001b[0m\u001b[0mengine\u001b[0m\u001b[0;34m)\u001b[0m\u001b[0;34m\u001b[0m\u001b[0;34m\u001b[0m\u001b[0m\n\u001b[0m\u001b[1;32m    812\u001b[0m \u001b[0;34m\u001b[0m\u001b[0m\n\u001b[1;32m    813\u001b[0m     \u001b[0;32mdef\u001b[0m \u001b[0mclose\u001b[0m\u001b[0;34m(\u001b[0m\u001b[0mself\u001b[0m\u001b[0;34m)\u001b[0m\u001b[0;34m:\u001b[0m\u001b[0;34m\u001b[0m\u001b[0;34m\u001b[0m\u001b[0m\n",
      "\u001b[0;32m~/opt/anaconda3/lib/python3.8/site-packages/pandas/io/parsers/readers.py\u001b[0m in \u001b[0;36m_make_engine\u001b[0;34m(self, engine)\u001b[0m\n\u001b[1;32m   1038\u001b[0m             )\n\u001b[1;32m   1039\u001b[0m         \u001b[0;31m# error: Too many arguments for \"ParserBase\"\u001b[0m\u001b[0;34m\u001b[0m\u001b[0;34m\u001b[0m\u001b[0;34m\u001b[0m\u001b[0m\n\u001b[0;32m-> 1040\u001b[0;31m         \u001b[0;32mreturn\u001b[0m \u001b[0mmapping\u001b[0m\u001b[0;34m[\u001b[0m\u001b[0mengine\u001b[0m\u001b[0;34m]\u001b[0m\u001b[0;34m(\u001b[0m\u001b[0mself\u001b[0m\u001b[0;34m.\u001b[0m\u001b[0mf\u001b[0m\u001b[0;34m,\u001b[0m \u001b[0;34m**\u001b[0m\u001b[0mself\u001b[0m\u001b[0;34m.\u001b[0m\u001b[0moptions\u001b[0m\u001b[0;34m)\u001b[0m  \u001b[0;31m# type: ignore[call-arg]\u001b[0m\u001b[0;34m\u001b[0m\u001b[0;34m\u001b[0m\u001b[0m\n\u001b[0m\u001b[1;32m   1041\u001b[0m \u001b[0;34m\u001b[0m\u001b[0m\n\u001b[1;32m   1042\u001b[0m     \u001b[0;32mdef\u001b[0m \u001b[0m_failover_to_python\u001b[0m\u001b[0;34m(\u001b[0m\u001b[0mself\u001b[0m\u001b[0;34m)\u001b[0m\u001b[0;34m:\u001b[0m\u001b[0;34m\u001b[0m\u001b[0;34m\u001b[0m\u001b[0m\n",
      "\u001b[0;32m~/opt/anaconda3/lib/python3.8/site-packages/pandas/io/parsers/c_parser_wrapper.py\u001b[0m in \u001b[0;36m__init__\u001b[0;34m(self, src, **kwds)\u001b[0m\n\u001b[1;32m     49\u001b[0m \u001b[0;34m\u001b[0m\u001b[0m\n\u001b[1;32m     50\u001b[0m         \u001b[0;31m# open handles\u001b[0m\u001b[0;34m\u001b[0m\u001b[0;34m\u001b[0m\u001b[0;34m\u001b[0m\u001b[0m\n\u001b[0;32m---> 51\u001b[0;31m         \u001b[0mself\u001b[0m\u001b[0;34m.\u001b[0m\u001b[0m_open_handles\u001b[0m\u001b[0;34m(\u001b[0m\u001b[0msrc\u001b[0m\u001b[0;34m,\u001b[0m \u001b[0mkwds\u001b[0m\u001b[0;34m)\u001b[0m\u001b[0;34m\u001b[0m\u001b[0;34m\u001b[0m\u001b[0m\n\u001b[0m\u001b[1;32m     52\u001b[0m         \u001b[0;32massert\u001b[0m \u001b[0mself\u001b[0m\u001b[0;34m.\u001b[0m\u001b[0mhandles\u001b[0m \u001b[0;32mis\u001b[0m \u001b[0;32mnot\u001b[0m \u001b[0;32mNone\u001b[0m\u001b[0;34m\u001b[0m\u001b[0;34m\u001b[0m\u001b[0m\n\u001b[1;32m     53\u001b[0m \u001b[0;34m\u001b[0m\u001b[0m\n",
      "\u001b[0;32m~/opt/anaconda3/lib/python3.8/site-packages/pandas/io/parsers/base_parser.py\u001b[0m in \u001b[0;36m_open_handles\u001b[0;34m(self, src, kwds)\u001b[0m\n\u001b[1;32m    220\u001b[0m         \u001b[0mLet\u001b[0m \u001b[0mthe\u001b[0m \u001b[0mreaders\u001b[0m \u001b[0mopen\u001b[0m \u001b[0mIOHandles\u001b[0m \u001b[0mafter\u001b[0m \u001b[0mthey\u001b[0m \u001b[0mare\u001b[0m \u001b[0mdone\u001b[0m \u001b[0;32mwith\u001b[0m \u001b[0mtheir\u001b[0m \u001b[0mpotential\u001b[0m \u001b[0mraises\u001b[0m\u001b[0;34m.\u001b[0m\u001b[0;34m\u001b[0m\u001b[0;34m\u001b[0m\u001b[0m\n\u001b[1;32m    221\u001b[0m         \"\"\"\n\u001b[0;32m--> 222\u001b[0;31m         self.handles = get_handle(\n\u001b[0m\u001b[1;32m    223\u001b[0m             \u001b[0msrc\u001b[0m\u001b[0;34m,\u001b[0m\u001b[0;34m\u001b[0m\u001b[0;34m\u001b[0m\u001b[0m\n\u001b[1;32m    224\u001b[0m             \u001b[0;34m\"r\"\u001b[0m\u001b[0;34m,\u001b[0m\u001b[0;34m\u001b[0m\u001b[0;34m\u001b[0m\u001b[0m\n",
      "\u001b[0;32m~/opt/anaconda3/lib/python3.8/site-packages/pandas/io/common.py\u001b[0m in \u001b[0;36mget_handle\u001b[0;34m(path_or_buf, mode, encoding, compression, memory_map, is_text, errors, storage_options)\u001b[0m\n\u001b[1;32m    700\u001b[0m         \u001b[0;32mif\u001b[0m \u001b[0mioargs\u001b[0m\u001b[0;34m.\u001b[0m\u001b[0mencoding\u001b[0m \u001b[0;32mand\u001b[0m \u001b[0;34m\"b\"\u001b[0m \u001b[0;32mnot\u001b[0m \u001b[0;32min\u001b[0m \u001b[0mioargs\u001b[0m\u001b[0;34m.\u001b[0m\u001b[0mmode\u001b[0m\u001b[0;34m:\u001b[0m\u001b[0;34m\u001b[0m\u001b[0;34m\u001b[0m\u001b[0m\n\u001b[1;32m    701\u001b[0m             \u001b[0;31m# Encoding\u001b[0m\u001b[0;34m\u001b[0m\u001b[0;34m\u001b[0m\u001b[0;34m\u001b[0m\u001b[0m\n\u001b[0;32m--> 702\u001b[0;31m             handle = open(\n\u001b[0m\u001b[1;32m    703\u001b[0m                 \u001b[0mhandle\u001b[0m\u001b[0;34m,\u001b[0m\u001b[0;34m\u001b[0m\u001b[0;34m\u001b[0m\u001b[0m\n\u001b[1;32m    704\u001b[0m                 \u001b[0mioargs\u001b[0m\u001b[0;34m.\u001b[0m\u001b[0mmode\u001b[0m\u001b[0;34m,\u001b[0m\u001b[0;34m\u001b[0m\u001b[0;34m\u001b[0m\u001b[0m\n",
      "\u001b[0;31mFileNotFoundError\u001b[0m: [Errno 2] No such file or directory: 'src/results/deepglobe/enc_resnet.dec_graph.300.512.75.75.nlayers_5_4.nheads_4.proj_share.bsz_32.loss_ce.adam.lr_002.drop_10_10.inveyemask/train_results.csv'"
     ]
    }
   ],
   "source": [
    "df = pd.read_csv(f'{WORK_DIR}enc_resnet.dec_graph.300.512.75.75.nlayers_5_4.nheads_4.proj_share.bsz_32.loss_ce.adam.lr_002.drop_10_10.inveyemask/train_results.csv',\n",
    "            names=columns)\n",
    "\n",
    "df.head()"
   ]
  },
  {
   "cell_type": "code",
   "execution_count": 36,
   "metadata": {},
   "outputs": [
    {
     "name": "stderr",
     "output_type": "stream",
     "text": [
      "No artists with labels found to put in legend.  Note that artists whose label start with an underscore are ignored when legend() is called with no argument.\n"
     ]
    },
    {
     "data": {
      "text/plain": [
       "[<matplotlib.lines.Line2D at 0x7fc0bcd6e9a0>]"
      ]
     },
     "execution_count": 36,
     "metadata": {},
     "output_type": "execute_result"
    },
    {
     "data": {
      "image/png": "[encoded data removed]",
      "text/plain": [
       "<Figure size 432x288 with 1 Axes>"
      ]
     },
     "metadata": {
      "needs_background": "light"
     },
     "output_type": "display_data"
    }
   ],
   "source": [
    "plt.legend()\n",
    "plt.plot(range(0,len(df)), df['ACC'])"
   ]
  },
  {
   "cell_type": "code",
   "execution_count": 46,
   "metadata": {},
   "outputs": [
    {
     "data": {
      "text/plain": [
       "<matplotlib.legend.Legend at 0x7fc0bd879b80>"
      ]
     },
     "execution_count": 46,
     "metadata": {},
     "output_type": "execute_result"
    },
    {
     "data": {
      "image/png": "[encoded data removed]",
      "text/plain": [
       "<Figure size 432x288 with 1 Axes>"
      ]
     },
     "metadata": {
      "needs_background": "light"
     },
     "output_type": "display_data"
    }
   ],
   "source": [
    "\n",
    "for x in df[['ACC', 'miF1', 'maF1']]:\n",
    "    plt.plot(range(0,len(df)), df[x])\n",
    "\n",
    "plt.legend(['ACC', 'miF1', 'maF1'])    "
   ]
  },
  {
   "cell_type": "code",
   "execution_count": 18,
   "metadata": {},
   "outputs": [
    {
     "data": {
      "text/plain": [
       "Index(['epoch', 'loss', 'ACC', 'HA', 'ebF1', 'miF1', 'maF1', 'meanAUC',\n",
       "       'medianAUC', 'meanAUPR', 'medianAUPR', 'meanFDR', 'medianFDR', 'time',\n",
       "       'num_params'],\n",
       "      dtype='object')"
      ]
     },
     "execution_count": 18,
     "metadata": {},
     "output_type": "execute_result"
    }
   ],
   "source": [
    "df.columns"
   ]
  },
  {
   "cell_type": "code",
   "execution_count": 26,
   "metadata": {},
   "outputs": [
    {
     "data": {
      "text/plain": [
       "range(0, 36)"
      ]
     },
     "execution_count": 26,
     "metadata": {},
     "output_type": "execute_result"
    }
   ],
   "source": [
    "range(0,len(df))"
   ]
  },
  {
   "cell_type": "code",
   "execution_count": null,
   "metadata": {},
   "outputs": [],
   "source": []
  }
 ],
 "metadata": {
  "kernelspec": {
   "display_name": "Python 3.8.12 ('base')",
   "language": "python",
   "name": "python3"
  },
  "language_info": {
   "codemirror_mode": {
    "name": "ipython",
    "version": 3
   },
   "file_extension": ".py",
   "mimetype": "text/x-python",
   "name": "python",
   "nbconvert_exporter": "python",
   "pygments_lexer": "ipython3",
   "version": "3.8.12"
  },
  "orig_nbformat": 4,
  "vscode": {
   "interpreter": {
    "hash": "c6e2f7d64e09a47553de0af19c128f3bd931f0a52e5c7b5b5273e1e89ded9318"
   }
  }
 },
 "nbformat": 4,
 "nbformat_minor": 2
}
